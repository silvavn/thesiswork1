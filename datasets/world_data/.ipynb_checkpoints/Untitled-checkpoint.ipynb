{
 "cells": [
  {
   "cell_type": "code",
   "execution_count": null,
   "metadata": {
    "collapsed": true
   },
   "outputs": [],
   "source": [
    "#imports\n",
    "import pandas as pd\n",
    "import numpy as np\n",
    "from sklearn.cluster import DBSCAN\n",
    "from sklearn.cluster import KMeans\n",
    "import matplotlib.pyplot as plt"
   ]
  },
  {
   "cell_type": "code",
   "execution_count": null,
   "metadata": {
    "collapsed": true
   },
   "outputs": [],
   "source": [
    "#import CSV file and create the database\n",
    "df = pd.read_csv(\"age_specific_fertility_rates.csv\")\n",
    "#df = df.sort_values(['year'], ascending=[True])\n",
    "snap_headers = np.unique(df['year'])\n",
    "features = [i for i in df if 'fertility' in i]\n",
    "timeline = [df[df['year'] == i] for i in snap_headers]"
   ]
  },
  {
   "cell_type": "code",
   "execution_count": null,
   "metadata": {
    "collapsed": true
   },
   "outputs": [],
   "source": [
    "#run clustering for each snapshot\n",
    "for d in timeline[0:]:\n",
    "\taxes = plt.gca()\n",
    "\taxes.set_xlim([0,400])\n",
    "\taxes.set_ylim([0,400])\n",
    "\t#print (datapoints[1][features])\n",
    "\tX = d[features[1:3]]\n",
    "\n",
    "\t#plt.scatter(X[features[0]], X[features[1]])\n",
    "\t#plt.savefig(\"{}.png\".format(str(np.unique(d['year']))))\n",
    "\tdb = KMeans(n_clusters=int(np.sqrt(len(d))), random_state=0).fit_predict(X)\n",
    "\t#DBSCAN(eps=5, min_samples=3, metric='euclidean', algorithm='auto', leaf_size=30, p=None, n_jobs=-1).fit_predict(X)\n",
    "\n",
    "\tplt.scatter(X[features[1]], X[features[2]], c=db, cmap='Vega20', alpha=1, s =10)\n",
    "\tplt.savefig(\"./results/{}.png\".format(str(np.unique(d['year']))))\n",
    "\tplt.clf()\n",
    "\tprint(np.unique(d['year']), np.unique(db), len(d))"
   ]
  }
 ],
 "metadata": {
  "kernelspec": {
   "display_name": "Python 3",
   "language": "python",
   "name": "python3"
  },
  "language_info": {
   "codemirror_mode": {
    "name": "ipython",
    "version": 3
   },
   "file_extension": ".py",
   "mimetype": "text/x-python",
   "name": "python",
   "nbconvert_exporter": "python",
   "pygments_lexer": "ipython3",
   "version": "3.6.1"
  }
 },
 "nbformat": 4,
 "nbformat_minor": 2
}
