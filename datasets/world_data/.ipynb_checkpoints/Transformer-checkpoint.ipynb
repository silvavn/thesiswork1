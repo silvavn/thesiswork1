{
 "cells": [
  {
   "cell_type": "code",
   "execution_count": 77,
   "metadata": {},
   "outputs": [],
   "source": [
    "#imports\n",
    "import pandas as pd\n",
    "import numpy as np\n",
    "import pickle\n",
    "from sklearn.cluster import DBSCAN, KMeans\n",
    "import matplotlib.pyplot as plt"
   ]
  },
  {
   "cell_type": "code",
   "execution_count": 78,
   "metadata": {},
   "outputs": [],
   "source": [
    "#import CSV file and create the database\n",
    "#csv_filename = \"age_specific_fertility_rates.csv\"\n",
    "csv_filename = \"midyear_population_age_country_code.csv\"\n",
    "df = pd.read_csv(csv_filename)\n",
    "#the line below is necessary only if the dataset is not ordered by year\n",
    "#df = df.sort_values(['year'], ascending=[True])\n",
    "snap_headers = np.unique(df['year']) #the filter that will define the snapshot range\n",
    "#features = [i for i in df if 'fertility' in i]\n",
    "features = [i for i in df if 'population' in i]\n",
    "snapshots = [df[df['year'] == i] for i in snap_headers]\n",
    "timeline = []"
   ]
  },
  {
   "cell_type": "code",
   "execution_count": 79,
   "metadata": {},
   "outputs": [],
   "source": [
    "class Datapoint:\n",
    "    def __init__(self, position, label=None):\n",
    "        self.position = position\n",
    "        self.label = label\n",
    "\n",
    "    @property\n",
    "    def position(self):\n",
    "        return self.__position\n",
    "\n",
    "    @position.setter\n",
    "    def position(self, position):\n",
    "        self.__position = position\n",
    "    \n",
    "    def get_fill(self):\n",
    "        colors = [GREEN,BLUE,YELLOW, WHITE, CYAN, MAGENTA, GRAY]\n",
    "        try:\n",
    "            return colors[self.label]\n",
    "        except:\n",
    "            return RED\n",
    "    \n",
    "    def Print(self):\n",
    "        print(\"Label: {}\\nFeature Vector: {}\\n\".format(self.label, self.position))\n",
    "\n",
    "    def draw(self, canvas):\n",
    "        if len(self.position) != 2: return # does not render if data is not bidimensional\n",
    "        #print(self.position)\n",
    "        canvas.create_oval(int(self.position[0])-datapoint_radius, \n",
    "            self.position[1]-datapoint_radius, \n",
    "            self.position[0]+datapoint_radius, \n",
    "            self.position[1]+datapoint_radius, \n",
    "            fill=self.get_fill())"
   ]
  },
  {
   "cell_type": "code",
   "execution_count": 80,
   "metadata": {},
   "outputs": [],
   "source": [
    "#util functions\n",
    "def myplot(X, db, d):\n",
    "    axes = plt.gca()\n",
    "    axes.set_xlim([0,400])\n",
    "    axes.set_ylim([0,400])\n",
    "    \n",
    "    plt.scatter(X[features[1]], X[features[2]], c=db, cmap='tab20', alpha=1, s =10)\n",
    "    plt.savefig(\"./results/{}.png\".format(str(np.unique(d['year'])[0])))\n",
    "    plt.clf()\n",
    "\n",
    "def save(filename, element):\n",
    "    pickle.dump(element, open(filename, \"wb\"))"
   ]
  },
  {
   "cell_type": "code",
   "execution_count": 81,
   "metadata": {},
   "outputs": [
    {
     "ename": "SyntaxError",
     "evalue": "invalid syntax (<ipython-input-81-acfebdcfa2bc>, line 7)",
     "output_type": "error",
     "traceback": [
      "\u001b[0;36m  File \u001b[0;32m\"<ipython-input-81-acfebdcfa2bc>\"\u001b[0;36m, line \u001b[0;32m7\u001b[0m\n\u001b[0;31m    db = DBSCAN(eps=5, min_samples=3, metric='euclidean', algorithm='auto', leaf_size=30, p=None, n_jobs=-1).fit_predict(X)\u001b[0m\n\u001b[0m     ^\u001b[0m\n\u001b[0;31mSyntaxError\u001b[0m\u001b[0;31m:\u001b[0m invalid syntax\n"
     ]
    }
   ],
   "source": [
    "#run clustering for each snapshot\n",
    "for d in snapshots:\n",
    "    \n",
    "    #print (datapoints[1][features])\n",
    "    X = d[features].values\n",
    "    #db = KMeans(n_clusters=int(np.sqrt(len(d))), random_state=0).fit_predict(X)\n",
    "    db = DBSCAN(eps=5, min_samples=3, metric='euclidean', algorithm='auto', leaf_size=30, p=None, n_jobs=-1).fit_predict(X)\n",
    "    timeline.append([Datapoint(X[i], db[i]) for i in range(len(X))])\n",
    "        \n",
    "    #print (X)\n",
    "    #plt.scatter(X[features[0]], X[features[1]])\n",
    "    #plt.savefig(\"{}.png\".format(str(np.unique(d['year']))))\n",
    "    #db = KMeans(n_clusters=int(np.sqrt(len(d))), random_state=0).fit_predict(X)\n",
    "    \n",
    "\n",
    "    #myplot(X, db, d)\n",
    "    #print(np.unique(d['year']), np.unique(db), len(d))\n",
    "save(csv_filename[:-4], timeline)"
   ]
  }
 ],
 "metadata": {
  "kernelspec": {
   "display_name": "Python 3",
   "language": "python",
   "name": "python3"
  },
  "language_info": {
   "codemirror_mode": {
    "name": "ipython",
    "version": 3
   },
   "file_extension": ".py",
   "mimetype": "text/x-python",
   "name": "python",
   "nbconvert_exporter": "python",
   "pygments_lexer": "ipython3",
   "version": "3.6.1"
  }
 },
 "nbformat": 4,
 "nbformat_minor": 2
}
